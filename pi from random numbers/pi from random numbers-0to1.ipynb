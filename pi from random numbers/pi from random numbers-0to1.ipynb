{
 "metadata": {
  "language_info": {
   "codemirror_mode": {
    "name": "ipython",
    "version": 3
   },
   "file_extension": ".py",
   "mimetype": "text/x-python",
   "name": "python",
   "nbconvert_exporter": "python",
   "pygments_lexer": "ipython3",
   "version": "3.8.5"
  },
  "orig_nbformat": 2,
  "kernelspec": {
   "name": "python385jvsc74a57bd010b2e6a108f860fb66ed563e280507c9990a4ea779f3d74795e56cc384aac229",
   "display_name": "Python 3.8.5 64-bit ('virtual')"
  },
  "metadata": {
   "interpreter": {
    "hash": "10b2e6a108f860fb66ed563e280507c9990a4ea779f3d74795e56cc384aac229"
   }
  }
 },
 "nbformat": 4,
 "nbformat_minor": 2,
 "cells": [
  {
   "cell_type": "code",
   "execution_count": 37,
   "metadata": {},
   "outputs": [
    {
     "output_type": "execute_result",
     "data": {
      "text/plain": [
       "array([[0.99073674, 0.29223595, 0.92733813, ..., 0.90261014, 0.57248215,\n",
       "        0.44939624],\n",
       "       [0.06323894, 0.34168412, 1.20479816, ..., 0.64649243, 0.60378245,\n",
       "        0.53011372],\n",
       "       [1.14709785, 0.65691898, 0.91188515, ..., 0.55787913, 0.22740589,\n",
       "        0.6210136 ],\n",
       "       ...,\n",
       "       [0.90823107, 0.75240844, 0.81154103, ..., 1.01174209, 0.20955349,\n",
       "        1.13612559],\n",
       "       [0.94759947, 0.56268483, 0.64192649, ..., 1.00076625, 0.93426477,\n",
       "        0.69721092],\n",
       "       [0.98077005, 0.60489209, 0.7922339 , ..., 0.51369326, 1.18201435,\n",
       "        0.99642593]])"
      ]
     },
     "metadata": {},
     "execution_count": 37
    }
   ],
   "source": [
    "import numpy\n",
    "\n",
    "r1 = numpy.square(numpy.random.rand(100, 1000))\n",
    "r2 = numpy.square(numpy.random.rand(100, 1000))\n",
    "r = numpy.sqrt(numpy.add(r1, r2))\n",
    "r"
   ]
  },
  {
   "cell_type": "code",
   "execution_count": 38,
   "metadata": {},
   "outputs": [
    {
     "output_type": "execute_result",
     "data": {
      "text/plain": [
       "array([0.99073674, 0.29223595, 0.92733813, ..., 0.50378615, 0.51369326,\n",
       "       0.99642593])"
      ]
     },
     "metadata": {},
     "execution_count": 38
    }
   ],
   "source": [
    "inside = r[r <= 1]\n",
    "inside"
   ]
  },
  {
   "cell_type": "code",
   "execution_count": 39,
   "metadata": {},
   "outputs": [
    {
     "output_type": "stream",
     "name": "stdout",
     "text": [
      "pi =  3.13064\n"
     ]
    }
   ],
   "source": [
    "print(\"pi = \",(4 * inside.size) / 100000)"
   ]
  }
 ]
}